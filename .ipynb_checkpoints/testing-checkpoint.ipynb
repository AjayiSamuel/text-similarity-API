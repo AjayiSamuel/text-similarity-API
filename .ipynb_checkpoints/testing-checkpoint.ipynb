{
 "cells": [
  {
   "cell_type": "code",
   "execution_count": 1,
   "metadata": {},
   "outputs": [],
   "source": [
    "# Imports\n",
    "import difflib\n",
    "import nltk"
   ]
  },
  {
   "cell_type": "code",
   "execution_count": 2,
   "metadata": {},
   "outputs": [],
   "source": [
    "target_sentence = \"In the eighteenth century it was often convenient to regard man as a clockwork automaton.\"\n",
    "\n",
    "sentences = [\"In the eighteenth century it was often convenient to regard man as a clockwork automaton.\",\n",
    "             \"in the eighteenth century    it was often convenient to regard man as a clockwork automaton\",\n",
    "             \"In the eighteenth century, it was often convenient to regard man as a clockwork automaton.\",\n",
    "             \"In the eighteenth century, it was not accepted to regard man as a clockwork automaton.\",\n",
    "             \"In the eighteenth century, it was often convenient to regard man as clockwork automata.\",\n",
    "             \"In the eighteenth century, it was often convenient to regard man as clockwork automatons.\",\n",
    "             \"It was convenient to regard man as a clockwork automaton in the eighteenth century.\",\n",
    "             \"In the 1700s, it was common to regard man as a clockwork automaton.\",\n",
    "             \"In the 1700s, it was convenient to regard man as a clockwork automaton.\",\n",
    "             \"In the eighteenth century.\",\n",
    "             \"Man as a clockwork automaton.\",\n",
    "             \"In past centuries, man was often regarded as a clockwork automaton.\",\n",
    "             \"The eighteenth century was characterized by man as a clockwork automaton.\",\n",
    "             \"Very long ago in the eighteenth century, many scholars regarded man as merely a clockwork automaton.\",]"
   ]
  },
  {
   "cell_type": "code",
   "execution_count": null,
   "metadata": {},
   "outputs": [],
   "source": []
  }
 ],
 "metadata": {
  "kernelspec": {
   "display_name": "Python 3",
   "language": "python",
   "name": "python3"
  },
  "language_info": {
   "codemirror_mode": {
    "name": "ipython",
    "version": 3
   },
   "file_extension": ".py",
   "mimetype": "text/x-python",
   "name": "python",
   "nbconvert_exporter": "python",
   "pygments_lexer": "ipython3",
   "version": "3.6.5"
  }
 },
 "nbformat": 4,
 "nbformat_minor": 1
}
