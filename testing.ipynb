{
 "cells": [
  {
   "cell_type": "code",
   "execution_count": 1,
   "metadata": {},
   "outputs": [],
   "source": [
    "# Imports\n",
    "import difflib\n",
    "import nltk"
   ]
  },
  {
   "cell_type": "code",
   "execution_count": 2,
   "metadata": {},
   "outputs": [],
   "source": [
    "target_sentence = \"In the eighteenth century it was often convenient to regard man as a clockwork automaton.\"\n",
    "\n",
    "sentences = [\"In the eighteenth century it was often convenient to regard man as a clockwork automaton.\",\n",
    "             \"in the eighteenth century    it was often convenient to regard man as a clockwork automaton\",\n",
    "             \"In the eighteenth century, it was often convenient to regard man as a clockwork automaton.\",\n",
    "             \"In the eighteenth century, it was not accepted to regard man as a clockwork automaton.\",\n",
    "             \"In the eighteenth century, it was often convenient to regard man as clockwork automata.\",\n",
    "             \"In the eighteenth century, it was often convenient to regard man as clockwork automatons.\",\n",
    "             \"It was convenient to regard man as a clockwork automaton in the eighteenth century.\",\n",
    "             \"In the 1700s, it was common to regard man as a clockwork automaton.\",\n",
    "             \"In the 1700s, it was convenient to regard man as a clockwork automaton.\",\n",
    "             \"In the eighteenth century.\",\n",
    "             \"Man as a clockwork automaton.\",\n",
    "             \"In past centuries, man was often regarded as a clockwork automaton.\",\n",
    "             \"The eighteenth century was characterized by man as a clockwork automaton.\",\n",
    "             \"Very long ago in the eighteenth century, many scholars regarded man as merely a clockwork automaton.\",]"
   ]
  },
  {
   "cell_type": "code",
   "execution_count": 15,
   "metadata": {},
   "outputs": [],
   "source": [
    "# Imports\n",
    "import nltk.corpus\n",
    "import nltk.tokenize.punkt\n",
    "import nltk.stem.snowball\n",
    "import string"
   ]
  },
  {
   "cell_type": "code",
   "execution_count": 4,
   "metadata": {},
   "outputs": [],
   "source": [
    "# Get default English stopwords and extend with punctuation\n",
    "stopwords = nltk.corpus.stopwords.words('english')\n",
    "stopwords.extend(string.punctuation)\n",
    "stopwords.append('')\n",
    "\n",
    "def get_wordnet_pos(pos_tag):\n",
    "    if pos_tag[1].startswith('J'):\n",
    "        return (pos_tag[0], wordnet.ADJ)\n",
    "    elif pos_tag[1].startswith('V'):\n",
    "        return (pos_tag[0], wordnet.VERB)\n",
    "    elif pos_tag[1].startswith('N'):\n",
    "        return (pos_tag[0], wordnet.NOUN)\n",
    "    elif pos_tag[1].startswith('R'):\n",
    "        return (pos_tag[0], wordnet.ADV)\n",
    "    else:\n",
    "        return (pos_tag[0], wordnet.NOUN)"
   ]
  },
  {
   "cell_type": "code",
   "execution_count": 21,
   "metadata": {},
   "outputs": [],
   "source": [
    "from nltk import word_tokenize\n",
    "# from nltk.corpus import stem\n",
    "from nltk.stem import WordNetLemmatizer\n",
    "from nltk.corpus import wordnet"
   ]
  },
  {
   "cell_type": "code",
   "execution_count": 22,
   "metadata": {},
   "outputs": [
    {
     "name": "stdout",
     "output_type": "stream",
     "text": [
      "True In the eighteenth century it was often convenient to regard man as a clockwork automaton.\n",
      "True in the eighteenth century    it was often convenient to regard man as a clockwork automaton\n",
      "True In the eighteenth century, it was often convenient to regard man as a clockwork automaton.\n",
      "True In the eighteenth century, it was not accepted to regard man as a clockwork automaton.\n",
      "True In the eighteenth century, it was often convenient to regard man as clockwork automata.\n",
      "True In the eighteenth century, it was often convenient to regard man as clockwork automatons.\n",
      "True It was convenient to regard man as a clockwork automaton in the eighteenth century.\n",
      "False In the 1700s, it was common to regard man as a clockwork automaton.\n",
      "False In the 1700s, it was convenient to regard man as a clockwork automaton.\n",
      "False In the eighteenth century.\n",
      "True Man as a clockwork automaton.\n",
      "True In past centuries, man was often regarded as a clockwork automaton.\n",
      "True The eighteenth century was characterized by man as a clockwork automaton.\n",
      "True Very long ago in the eighteenth century, many scholars regarded man as merely a clockwork automaton.\n"
     ]
    }
   ],
   "source": [
    "# Create tokenizer and stemmer\n",
    "# tokenizer = nltk.tokenize.punkt.PunktWordTokenizer()\n",
    "lemmatizer = WordNetLemmatizer()\n",
    "\n",
    "def is_ci_partial_noun_set_token_stopword_lemma_match(a, b):\n",
    "    \"\"\"Check if a and b are matches.\"\"\"\n",
    "    pos_a = map(get_wordnet_pos, nltk.pos_tag(word_tokenize(a)))\n",
    "    pos_b = map(get_wordnet_pos, nltk.pos_tag(word_tokenize(b)))\n",
    "    lemmae_a = [lemmatizer.lemmatize(token.lower().strip(string.punctuation), pos) for token, pos in pos_a \\\n",
    "                    if pos == wordnet.NOUN and token.lower().strip(string.punctuation) not in stopwords]\n",
    "    lemmae_b = [lemmatizer.lemmatize(token.lower().strip(string.punctuation), pos) for token, pos in pos_b \\\n",
    "                    if pos == wordnet.NOUN and token.lower().strip(string.punctuation) not in stopwords]\n",
    "\n",
    "    # Calculate Jaccard similarity\n",
    "    ratio = len(set(lemmae_a).intersection(lemmae_b)) / float(len(set(lemmae_a).union(lemmae_b)))\n",
    "    return (ratio > 0.66)\n",
    "\n",
    "for sentence in sentences:\n",
    "   print(is_ci_partial_noun_set_token_stopword_lemma_match(target_sentence, sentence), sentence)"
   ]
  }
 ],
 "metadata": {
  "kernelspec": {
   "display_name": "Python 3",
   "language": "python",
   "name": "python3"
  },
  "language_info": {
   "codemirror_mode": {
    "name": "ipython",
    "version": 3
   },
   "file_extension": ".py",
   "mimetype": "text/x-python",
   "name": "python",
   "nbconvert_exporter": "python",
   "pygments_lexer": "ipython3",
   "version": "3.6.5"
  }
 },
 "nbformat": 4,
 "nbformat_minor": 1
}
